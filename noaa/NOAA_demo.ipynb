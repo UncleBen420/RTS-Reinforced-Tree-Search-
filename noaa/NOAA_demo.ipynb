{
 "cells": [
  {
   "cell_type": "markdown",
   "id": "aabd92b6",
   "metadata": {},
   "source": [
    "# NOAA challenge for benchmarking RTS"
   ]
  },
  {
   "cell_type": "markdown",
   "id": "b3992907",
   "metadata": {},
   "source": [
    "First you need to create to dataset using the original NOAA dataset with the utiliy function: \n",
    "\n",
    "```\n",
    "python3 noaa/noaa_dot_to_coord.py -img path/to/the/images -dot /path/to/the/dotted/images -out /path/to/the/output/folder\n",
    "```\n",
    "The function above, create a .txt file for each image file containing the bounding boxes and class for each sea lion.\n",
    "\n",
    "\n",
    "```\n",
    "python3 noaa/noaa_create_model_ds.py -i /path/to/the/images -l /path/to/the/bboxes -o /path/to/the/output/folder -n 10\n",
    "```\n",
    "\n",
    "The function above create a dataset of sub images and labels for each images. The labels are the total count of sea lion for each class (adult male, sub adult male, female, ...).\n",
    "\n"
   ]
  },
  {
   "cell_type": "markdown",
   "id": "d1ad05e5",
   "metadata": {},
   "source": [
    "# Model Training\n",
    "\n",
    "Using the helper function load a model and train it on the newly create dataset."
   ]
  },
  {
   "cell_type": "code",
   "execution_count": null,
   "id": "39e72724",
   "metadata": {},
   "outputs": [
    {
     "name": "stderr",
     "output_type": "stream",
     "text": [
      "/home/remy/.local/lib/python3.8/site-packages/tqdm/auto.py:22: TqdmWarning: IProgress not found. Please update jupyter and ipywidgets. See https://ipywidgets.readthedocs.io/en/stable/user_install.html\n",
      "  from .autonotebook import tqdm as notebook_tqdm\n"
     ]
    },
    {
     "name": "stdout",
     "output_type": "stream",
     "text": [
      "[INFO] initializing the ResNet50 model...\n",
      "haha\n"
     ]
    },
    {
     "name": "stderr",
     "output_type": "stream",
     "text": [
      "\r",
      "0epochs [00:00, ?epochs/s]"
     ]
    }
   ],
   "source": [
    "import train_model\n",
    "import matplotlib.pyplot as plt\n",
    "TRAIN_PATH = \"/PATH/TO/THE/DATASET\"\n",
    "TRAIN_PATH = \"/media/remy/PHILIPS UFD/Model/Train\"\n",
    "EPOCHS = 50\n",
    "\n",
    "DEVICE = 'cpu'\n",
    "\n",
    "model = train_model.get_model(DEVICE)\n",
    "\n",
    "history, model = train_model.train(TRAIN_PATH, model, EPOCHS, DEVICE)\n",
    "\n",
    "plt.plot(history[\"train_loss\"])\n",
    "plt.plot(history[\"test_loss\"])\n",
    "plt.show()"
   ]
  },
  {
   "cell_type": "markdown",
   "id": "453e76ca",
   "metadata": {},
   "source": [
    "# Model Evaluation\n",
    "\n",
    "Now we can do the evaluation of the model on the validation set."
   ]
  },
  {
   "cell_type": "code",
   "execution_count": null,
   "id": "137a304b",
   "metadata": {},
   "outputs": [],
   "source": [
    "TRAIN_PATH = \"/PATH/TO/THE/DATASET\"\n",
    "TRAIN_PATH = \"/media/remy/PHILIPS UFD/Model/Test\"\n",
    "\n",
    "print(train_model.eval(TRAIN_PATH, model))"
   ]
  }
 ],
 "metadata": {
  "kernelspec": {
   "display_name": "Python 3 (ipykernel)",
   "language": "python",
   "name": "python3"
  },
  "language_info": {
   "codemirror_mode": {
    "name": "ipython",
    "version": 3
   },
   "file_extension": ".py",
   "mimetype": "text/x-python",
   "name": "python",
   "nbconvert_exporter": "python",
   "pygments_lexer": "ipython3",
   "version": "3.8.10"
  }
 },
 "nbformat": 4,
 "nbformat_minor": 5
}
